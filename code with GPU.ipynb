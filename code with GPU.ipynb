{
  "cells": [
    {
      "cell_type": "code",
      "execution_count": null,
      "metadata": {
        "id": "ju1PuTSXqZYH",
        "colab": {
          "base_uri": "https://localhost:8080/"
        },
        "outputId": "26478cd5-c71b-4085-a62c-162fa26ae582"
      },
      "outputs": [
        {
          "output_type": "stream",
          "name": "stdout",
          "text": [
            "Mounted at /content/drive\n"
          ]
        }
      ],
      "source": [
        "from google.colab import drive\n",
        "drive.mount('/content/drive')"
      ]
    },
    {
      "cell_type": "code",
      "execution_count": null,
      "metadata": {
        "id": "HG7Pkyi-w27B",
        "colab": {
          "base_uri": "https://localhost:8080/"
        },
        "outputId": "e10509fb-25d1-49dc-f516-8b833eadd2b5"
      },
      "outputs": [
        {
          "output_type": "stream",
          "name": "stdout",
          "text": [
            "Looking in indexes: https://pypi.org/simple, https://us-python.pkg.dev/colab-wheels/public/simple/\n",
            "Collecting keras_vggface\n",
            "  Downloading keras_vggface-0.6-py3-none-any.whl (8.3 kB)\n",
            "Requirement already satisfied: numpy>=1.9.1 in /usr/local/lib/python3.10/dist-packages (from keras_vggface) (1.22.4)\n",
            "Requirement already satisfied: scipy>=0.14 in /usr/local/lib/python3.10/dist-packages (from keras_vggface) (1.10.1)\n",
            "Requirement already satisfied: h5py in /usr/local/lib/python3.10/dist-packages (from keras_vggface) (3.8.0)\n",
            "Requirement already satisfied: pillow in /usr/local/lib/python3.10/dist-packages (from keras_vggface) (8.4.0)\n",
            "Requirement already satisfied: keras in /usr/local/lib/python3.10/dist-packages (from keras_vggface) (2.12.0)\n",
            "Requirement already satisfied: six>=1.9.0 in /usr/local/lib/python3.10/dist-packages (from keras_vggface) (1.16.0)\n",
            "Requirement already satisfied: pyyaml in /usr/local/lib/python3.10/dist-packages (from keras_vggface) (6.0)\n",
            "Installing collected packages: keras_vggface\n",
            "Successfully installed keras_vggface-0.6\n",
            "Looking in indexes: https://pypi.org/simple, https://us-python.pkg.dev/colab-wheels/public/simple/\n",
            "Collecting keras_applications\n",
            "  Downloading Keras_Applications-1.0.8-py3-none-any.whl (50 kB)\n",
            "\u001b[2K     \u001b[90m━━━━━━━━━━━━━━━━━━━━━━━━━━━━━━━━━━━━━━━━\u001b[0m \u001b[32m50.7/50.7 kB\u001b[0m \u001b[31m4.4 MB/s\u001b[0m eta \u001b[36m0:00:00\u001b[0m\n",
            "\u001b[?25hRequirement already satisfied: numpy>=1.9.1 in /usr/local/lib/python3.10/dist-packages (from keras_applications) (1.22.4)\n",
            "Requirement already satisfied: h5py in /usr/local/lib/python3.10/dist-packages (from keras_applications) (3.8.0)\n",
            "Installing collected packages: keras_applications\n",
            "Successfully installed keras_applications-1.0.8\n",
            "Looking in indexes: https://pypi.org/simple, https://us-python.pkg.dev/colab-wheels/public/simple/\n",
            "Requirement already satisfied: PyYAML in /usr/local/lib/python3.10/dist-packages (6.0)\n"
          ]
        }
      ],
      "source": [
        "!pip install keras_vggface\n",
        "!pip install keras_applications\n",
        "!pip install PyYAML"
      ]
    },
    {
      "cell_type": "code",
      "execution_count": null,
      "metadata": {
        "id": "We4PBGMEt8R3"
      },
      "outputs": [],
      "source": [
        "from PIL import Image\n",
        "#from keras_vggface.utils import preprocess_input\n",
        "#from keras.utils.layer_utils import get_source_inputs\n",
        "from keras_vggface.vggface import VGGFace\n",
        "import numpy as np\n",
        "import cv2\n",
        "import os\n",
        "from scipy import spatial\n",
        "import tensorflow as tf\n"
      ]
    },
    {
      "cell_type": "code",
      "execution_count": null,
      "metadata": {
        "id": "2IzQxbsid2OL"
      },
      "outputs": [],
      "source": [
        "from keras.models import Sequential\n",
        "from keras.layers import Dense\n",
        "import csv\n",
        "import pandas as pd\n",
        "import keras"
      ]
    },
    {
      "cell_type": "code",
      "execution_count": null,
      "metadata": {
        "id": "T6IwhrtKrNzw"
      },
      "outputs": [],
      "source": [
        "df =pd.read_csv('/content/drive/MyDrive/dlsip_and_maths/mtcnned/final.csv')\n",
        "df = df.iloc[: , 1:]\n",
        "X = df.drop(['Target'],axis=1).values   # independant features\n",
        "y = df['Target'].values"
      ]
    },
    {
      "cell_type": "code",
      "execution_count": null,
      "metadata": {
        "id": "x2BRNQWesqaw"
      },
      "outputs": [],
      "source": [
        "from sklearn.model_selection import train_test_split\n",
        "X_train, X_val_test, y_train, y_val_test = train_test_split(X, y, test_size=0.2, random_state=42)"
      ]
    },
    {
      "cell_type": "code",
      "execution_count": null,
      "metadata": {
        "id": "5fYjDs2fvYEu"
      },
      "outputs": [],
      "source": [
        "X_val, X_test, y_val, y_test = train_test_split(X_val_test, y_val_test, test_size=0.5)"
      ]
    },
    {
      "cell_type": "code",
      "execution_count": null,
      "metadata": {
        "id": "9Hod9I37weZ7",
        "colab": {
          "base_uri": "https://localhost:8080/"
        },
        "outputId": "403a0f92-f22e-42aa-a3c1-2fc94e70a8e1"
      },
      "outputs": [
        {
          "output_type": "execute_result",
          "data": {
            "text/plain": [
              "(6176, 2623)"
            ]
          },
          "metadata": {},
          "execution_count": 9
        }
      ],
      "source": [
        "df.shape"
      ]
    },
    {
      "cell_type": "code",
      "execution_count": null,
      "metadata": {
        "id": "EsXX1bFxs5vF",
        "colab": {
          "base_uri": "https://localhost:8080/"
        },
        "outputId": "0e75c117-e6cc-411d-e0f5-0293dec9b9e3"
      },
      "outputs": [
        {
          "output_type": "execute_result",
          "data": {
            "text/plain": [
              "(4940, 2622)"
            ]
          },
          "metadata": {},
          "execution_count": 10
        }
      ],
      "source": [
        "X_train.shape"
      ]
    },
    {
      "cell_type": "markdown",
      "metadata": {
        "id": "xVkU23UHeT9h"
      },
      "source": [
        "Fully connected layers to predict similarity\n"
      ]
    },
    {
      "cell_type": "markdown",
      "metadata": {
        "id": "KmCF0oyEoMcp"
      },
      "source": [
        "*Creating model*\n"
      ]
    },
    {
      "cell_type": "code",
      "execution_count": null,
      "metadata": {
        "id": "EsxP0lTDeF3e"
      },
      "outputs": [],
      "source": [
        "\n",
        "model_fnn = Sequential([Dense(3000, activation='relu', input_shape=(2622,)),\n",
        "  Dense(4000, activation='relu'),\n",
        "  Dense(4000, activation='relu'),\n",
        "  Dense(1, activation='sigmoid'),])\n",
        "\n"
      ]
    },
    {
      "cell_type": "code",
      "execution_count": null,
      "metadata": {
        "id": "eeCpMXsY2IRx"
      },
      "outputs": [],
      "source": [
        "model_fnn.compile(optimizer='adam',\n",
        "            loss='binary_crossentropy',\n",
        "            metrics=['accuracy'])\n",
        "\n",
        "reduce_lr = keras.callbacks.ReduceLROnPlateau(monitor='val_loss', factor=0.2,\n",
        "                              patience=5, min_lr=0.001)"
      ]
    },
    {
      "cell_type": "code",
      "execution_count": null,
      "metadata": {
        "id": "Jgu1B-6xrmEq",
        "colab": {
          "base_uri": "https://localhost:8080/"
        },
        "outputId": "4b9c3b2b-91bb-4be5-b3fa-cb237fc89bf2"
      },
      "outputs": [
        {
          "output_type": "stream",
          "name": "stdout",
          "text": [
            "Epoch 1/20\n",
            "155/155 [==============================] - 7s 11ms/step - loss: 0.5124 - accuracy: 0.7447 - val_loss: 0.4655 - val_accuracy: 0.7832\n",
            "Epoch 2/20\n",
            "155/155 [==============================] - 2s 11ms/step - loss: 0.4295 - accuracy: 0.7994 - val_loss: 0.4157 - val_accuracy: 0.7961\n",
            "Epoch 3/20\n",
            "155/155 [==============================] - 2s 11ms/step - loss: 0.3721 - accuracy: 0.8340 - val_loss: 0.3391 - val_accuracy: 0.8479\n",
            "Epoch 4/20\n",
            "155/155 [==============================] - 2s 11ms/step - loss: 0.3171 - accuracy: 0.8597 - val_loss: 0.2782 - val_accuracy: 0.8738\n",
            "Epoch 5/20\n",
            "155/155 [==============================] - 1s 10ms/step - loss: 0.2784 - accuracy: 0.8767 - val_loss: 0.2891 - val_accuracy: 0.8657\n",
            "Epoch 6/20\n",
            "155/155 [==============================] - 1s 10ms/step - loss: 0.2500 - accuracy: 0.8939 - val_loss: 0.2247 - val_accuracy: 0.9078\n",
            "Epoch 7/20\n",
            "155/155 [==============================] - 1s 10ms/step - loss: 0.2108 - accuracy: 0.9081 - val_loss: 0.2864 - val_accuracy: 0.8544\n",
            "Epoch 8/20\n",
            "155/155 [==============================] - 1s 10ms/step - loss: 0.1933 - accuracy: 0.9172 - val_loss: 0.1750 - val_accuracy: 0.9272\n",
            "Epoch 9/20\n",
            "155/155 [==============================] - 2s 10ms/step - loss: 0.1554 - accuracy: 0.9372 - val_loss: 0.1761 - val_accuracy: 0.9207\n",
            "Epoch 10/20\n",
            "155/155 [==============================] - 2s 10ms/step - loss: 0.1583 - accuracy: 0.9328 - val_loss: 0.1957 - val_accuracy: 0.9288\n",
            "Epoch 11/20\n",
            "155/155 [==============================] - 2s 11ms/step - loss: 0.1272 - accuracy: 0.9460 - val_loss: 0.3338 - val_accuracy: 0.8560\n",
            "Epoch 12/20\n",
            "155/155 [==============================] - 2s 11ms/step - loss: 0.1065 - accuracy: 0.9583 - val_loss: 0.1854 - val_accuracy: 0.9320\n",
            "Epoch 13/20\n",
            "155/155 [==============================] - 2s 10ms/step - loss: 0.1039 - accuracy: 0.9648 - val_loss: 0.1264 - val_accuracy: 0.9498\n",
            "Epoch 14/20\n",
            "155/155 [==============================] - 2s 10ms/step - loss: 0.0962 - accuracy: 0.9636 - val_loss: 0.1446 - val_accuracy: 0.9531\n",
            "Epoch 15/20\n",
            "155/155 [==============================] - 1s 10ms/step - loss: 0.1000 - accuracy: 0.9613 - val_loss: 0.1161 - val_accuracy: 0.9531\n",
            "Epoch 16/20\n",
            "155/155 [==============================] - 2s 10ms/step - loss: 0.0817 - accuracy: 0.9662 - val_loss: 0.1075 - val_accuracy: 0.9563\n",
            "Epoch 17/20\n",
            "155/155 [==============================] - 2s 10ms/step - loss: 0.0773 - accuracy: 0.9706 - val_loss: 0.1356 - val_accuracy: 0.9417\n",
            "Epoch 18/20\n",
            "155/155 [==============================] - 2s 10ms/step - loss: 0.0832 - accuracy: 0.9688 - val_loss: 0.0979 - val_accuracy: 0.9612\n",
            "Epoch 19/20\n",
            "155/155 [==============================] - 2s 10ms/step - loss: 0.0853 - accuracy: 0.9658 - val_loss: 0.0800 - val_accuracy: 0.9660\n",
            "Epoch 20/20\n",
            "155/155 [==============================] - 2s 12ms/step - loss: 0.0581 - accuracy: 0.9783 - val_loss: 0.0876 - val_accuracy: 0.9693\n"
          ]
        }
      ],
      "source": [
        "hist = model_fnn.fit(X_train, y_train,\n",
        "        batch_size=32, epochs=20,\n",
        "        validation_data=(X_test, y_test))\n"
      ]
    },
    {
      "cell_type": "code",
      "execution_count": null,
      "metadata": {
        "id": "0a3KXfFCl6HP",
        "colab": {
          "base_uri": "https://localhost:8080/"
        },
        "outputId": "12c6fbb0-3078-4283-a0c9-5b9388345043"
      },
      "outputs": [
        {
          "output_type": "stream",
          "name": "stdout",
          "text": [
            "20/20 [==============================] - 0s 3ms/step - loss: 0.0876 - accuracy: 0.9693\n"
          ]
        },
        {
          "output_type": "execute_result",
          "data": {
            "text/plain": [
              "0.9692556858062744"
            ]
          },
          "metadata": {},
          "execution_count": 14
        }
      ],
      "source": [
        "model_fnn.evaluate(X_test, y_test)[1]"
      ]
    },
    {
      "cell_type": "code",
      "execution_count": null,
      "metadata": {
        "id": "240KT7AHyL0f",
        "colab": {
          "base_uri": "https://localhost:8080/",
          "height": 472
        },
        "outputId": "18712857-63db-41d5-d978-92bc6b064eff"
      },
      "outputs": [
        {
          "output_type": "display_data",
          "data": {
            "text/plain": [
              "<Figure size 640x480 with 1 Axes>"
            ],
            "image/png": "[encoded data removed]"
          },
          "metadata": {}
        }
      ],
      "source": [
        "import matplotlib.pyplot as plt\n",
        "plt.plot(hist.history['loss'])\n",
        "plt.plot(hist.history['val_loss'])\n",
        "plt.title('Model loss')\n",
        "plt.ylabel('Loss')\n",
        "plt.xlabel('Epoch')\n",
        "plt.legend(['Train', 'Val'], loc='upper right')\n",
        "plt.show()"
      ]
    },
    {
      "cell_type": "code",
      "execution_count": null,
      "metadata": {
        "id": "1OHKnxIRyZ7z",
        "colab": {
          "base_uri": "https://localhost:8080/",
          "height": 472
        },
        "outputId": "1841a85c-8451-414f-8991-21f74776d177"
      },
      "outputs": [
        {
          "output_type": "display_data",
          "data": {
            "text/plain": [
              "<Figure size 640x480 with 1 Axes>"
            ],
            "image/png": "[encoded data removed]"
          },
          "metadata": {}
        }
      ],
      "source": [
        "plt.plot(hist.history['accuracy'])\n",
        "plt.plot(hist.history['val_accuracy'])\n",
        "plt.title('Model accuracy')\n",
        "plt.ylabel('Accuracy')\n",
        "plt.xlabel('Epoch')\n",
        "plt.legend(['Train', 'Val'], loc='lower right')\n",
        "plt.show()"
      ]
    },
    {
      "cell_type": "code",
      "execution_count": null,
      "metadata": {
        "id": "oys2GN-0WgOF"
      },
      "outputs": [],
      "source": [
        "import cv2\n",
        "import sys\n",
        "\n",
        "def mtcnn(file_path,foldername='faces',reference=False):\n",
        "  image = cv2.imread(file_path)\n",
        "  gray = cv2.cvtColor(image, cv2.COLOR_BGR2GRAY)\n",
        "  faceCascade = cv2.CascadeClassifier(cv2.data.haarcascades + \"haarcascade_frontalface_default.xml\")\n",
        "  faces = faceCascade.detectMultiScale(gray,scaleFactor=1.3,minNeighbors=3,minSize=(30, 30) )\n",
        "  print(\"[INFO] Found {0} Faces.\".format(len(faces)))\n",
        "  if reference == True:\n",
        "    dir='/content/reference'\n",
        "  else:\n",
        "    dir='/content/faces/'+foldername\n",
        "  for f in os.listdir(dir):\n",
        "    if not(f=='.ipynb_checkpoints'):\n",
        "      os.remove(os.path.join(dir, f))\n",
        "  if reference == True:\n",
        "    (x,y,w,h)=faces[0]\n",
        "    roi_color = image[y:y + h, x:x + w]\n",
        "    path='/content/reference/face_of_the_person.jpg'\n",
        "    cv2.imwrite(path, roi_color)\n",
        "    print(\"file saved at\",path)\n",
        "  else:\n",
        "    i=1\n",
        "\n",
        "    for (x, y, w, h) in faces:\n",
        "        cv2.rectangle(image, (x, y), (x + w, y + h), (0, 255, 0), 2)\n",
        "        roi_color = image[y:y + h, x:x + w]\n",
        "        print(\"[INFO] Object found. Saving locally.\")\n",
        "\n",
        "        cv2.imwrite('/content/faces/'+foldername+'/detected_faces'+str(i)+'.jpg', roi_color)\n",
        "        i=i+1\n",
        "\n",
        "  status = cv2.imwrite('/content/faces_on_original_image/faces_detected.jpg', image)\n",
        "  print(\"[INFO] Image faces_detected.jpg written to filesystem: \", status)"
      ]
    },
    {
      "cell_type": "code",
      "execution_count": null,
      "metadata": {
        "id": "8fUK7WUIuwqY",
        "colab": {
          "base_uri": "https://localhost:8080/"
        },
        "outputId": "3c06e1e5-56c8-4034-bf10-be45392c378c"
      },
      "outputs": [
        {
          "output_type": "stream",
          "name": "stdout",
          "text": [
            "Downloading data from https://github.com/rcmalli/keras-vggface/releases/download/v2.0/rcmalli_vggface_tf_vgg16.h5\n",
            "580070376/580070376 [==============================] - 28s 0us/step\n",
            "<keras.engine.functional.Functional object at 0x7f3f3c46a110>\n"
          ]
        }
      ],
      "source": [
        "BASE_MODEL = 'vgg16'\n",
        "include_top = 'False'\n",
        "pooling = 'avg'\n",
        "\n",
        "model=VGGFace(model=BASE_MODEL,include_top=include_top,weights='vggface',input_shape=(224,224,3),pooling=pooling)\n",
        "print(model)"
      ]
    },
    {
      "cell_type": "code",
      "execution_count": null,
      "metadata": {
        "id": "9BdKDvCWaaqV"
      },
      "outputs": [],
      "source": [
        "os.mkdir('reference')\n",
        "!rm -rf faces\n",
        "os.mkdir('faces')\n",
        "os.mkdir('faces_on_original_image')"
      ]
    },
    {
      "cell_type": "code",
      "execution_count": null,
      "metadata": {
        "id": "SyNbYYB7w8TP"
      },
      "outputs": [],
      "source": [
        "def get_image_embedding(saving_dir):\n",
        "  print(f\"Saving DIr : {saving_dir}\")\n",
        "  img=Image.open(saving_dir)\n",
        "  img=img.resize((224,224))\n",
        "  img_array=np.array(img).astype(np.float32)\n",
        "  #img_array = img_array.transpose((2,0,1))\n",
        "  expanded_img=np.expand_dims(img_array,axis=0)\n",
        "  result=model.predict(expanded_img)\n",
        "  return result.flatten()"
      ]
    },
    {
      "cell_type": "code",
      "execution_count": null,
      "metadata": {
        "id": "mB5QQJOnknBd"
      },
      "outputs": [],
      "source": [
        "def triplet_loss(e1,e2):\n",
        "  #finds the difference between features of the each image\n",
        "  distance=np.subtract(e1,e2)\n",
        "  #the loss is squared so that non similar values stay more apart\n",
        "  loss=np.square(distance)\n",
        "  return loss\n"
      ]
    },
    {
      "cell_type": "code",
      "execution_count": null,
      "metadata": {
        "id": "QviLfE5ESJoH"
      },
      "outputs": [],
      "source": [
        "\n",
        "def remove_files_in_directory(directory):\n",
        "    os.system(f\"rm -rf {directory}\")"
      ]
    },
    {
      "cell_type": "code",
      "execution_count": null,
      "metadata": {
        "id": "RXgIkqa7gnxL"
      },
      "outputs": [],
      "source": [
        "!rm -rf temp_data\n",
        "!rm -rf /content/faces/\n",
        "!mkdir -p temp_data/ref/\n",
        "!mkdir -p temp_data/group/"
      ]
    },
    {
      "cell_type": "code",
      "execution_count": null,
      "metadata": {
        "id": "rjpxiAUBo_c7"
      },
      "outputs": [],
      "source": [
        "def maincode():\n",
        "\n",
        "  pno= \"ref\"\n",
        "  imagePath='/content/temp_data/ref/'+str(pno)+'.jpg'\n",
        "  print(imagePath)\n",
        "\n",
        "  mtcnn(imagePath,'reference',reference=True)\n",
        "  saving_dir='/content/reference/face_of_the_person.jpg'\n",
        "\n",
        "  #select the folder of images\n",
        "  fno= \"group\"\n",
        "  path_of_the_directory='/content/temp_data/group/'\n",
        "  folder_output=[]\n",
        "  referenceorg=get_image_embedding(saving_dir)\n",
        "  features=['f'+str(i) for i in range(2622)]\n",
        "  os.makedirs('/content/faces',exist_ok=True)\n",
        "  dir='/content/faces/'\n",
        "  for f in os.listdir(dir):\n",
        "    if not(f=='.ipynb_checkpoints'):\n",
        "      os.remove(os.path.join(dir, f))\n",
        "  for filename in os.listdir(path_of_the_directory):\n",
        "\n",
        "    os.makedirs('/content/faces/'+filename,exist_ok=True)\n",
        "\n",
        "    file=os.path.join(path_of_the_directory,filename)\n",
        "    if os.path.isfile(file):\n",
        "      mtcnn(file,filename,reference=False)\n",
        "    all_similirity_scores=[]\n",
        "    for im in os.listdir('/content/faces/'+filename):\n",
        "      j=os.path.join('/content/faces/'+filename,im)\n",
        "      print(j)\n",
        "      if os.path.isfile(j):\n",
        "        embb=get_image_embedding(j)\n",
        "        dist=triplet_loss(referenceorg,embb)\n",
        "        inp=pd.DataFrame([dist], columns=features)\n",
        "        score=model_fnn.predict(inp)\n",
        "        all_similirity_scores.append(score)\n",
        "\n",
        "    folder_output.append([filename,max(all_similirity_scores)])\n",
        "\n",
        "    print(all_similirity_scores)\n",
        "    # removing files\n",
        "  remove_files_in_directory(\"/content/faces/\")\n",
        "  if max(all_similirity_scores) >= 0.6:\n",
        "    return {\"Person detected in the group image\":1.0}\n",
        "  elif 0.4 <=max(all_similirity_scores)<0.6:\n",
        "    return {\"Person might be present in group image\":0.5}\n",
        "  else:\n",
        "    return {\"Person is not present in group photo\":0.0}"
      ]
    },
    {
      "cell_type": "code",
      "execution_count": null,
      "metadata": {
        "id": "AN5ZQrIqxHuG"
      },
      "outputs": [],
      "source": [
        "# while(1):\n",
        "#   print(maincode())\n",
        "#   if not(int(input('enter 0 to quit'))):\n",
        "#     break\n",
        "#x=maincode()"
      ]
    },
    {
      "cell_type": "code",
      "execution_count": null,
      "metadata": {
        "id": "a1LcsnmXeqVA"
      },
      "outputs": [],
      "source": [
        "#vec=get_image_embedding('/content/reference/face_of_the_person.jpg')\n",
        "#print('no.of features form each image: ',len(vec))"
      ]
    },
    {
      "cell_type": "code",
      "execution_count": null,
      "metadata": {
        "id": "uxN535a0NRGl"
      },
      "outputs": [],
      "source": [
        "#vec"
      ]
    },
    {
      "cell_type": "code",
      "execution_count": null,
      "metadata": {
        "id": "SpKk8PK10irF"
      },
      "outputs": [],
      "source": [
        "#!pip install streamlit"
      ]
    },
    {
      "cell_type": "code",
      "execution_count": null,
      "metadata": {
        "id": "9NXl_R9SIYk6"
      },
      "outputs": [],
      "source": [
        "#!pip install pyngrok"
      ]
    },
    {
      "cell_type": "code",
      "execution_count": null,
      "metadata": {
        "id": "zO4wOSN0IjX0"
      },
      "outputs": [],
      "source": [
        "# %%writefile app.py\n",
        "# import streamlit as st\n",
        "# st.title(\"Identify person in group image\")"
      ]
    },
    {
      "cell_type": "code",
      "execution_count": null,
      "metadata": {
        "id": "MLOlnifWJk_g"
      },
      "outputs": [],
      "source": [
        "# !streamlit run app.py &>/dev/null&"
      ]
    },
    {
      "cell_type": "code",
      "execution_count": null,
      "metadata": {
        "id": "9TuJsoVCKElj"
      },
      "outputs": [],
      "source": [
        "# !ngrok authtoken 2QqU0fYvIvK4CPc0ScNsrlTooVC_6EuW9N7n1nzrYgSrUZMXW"
      ]
    },
    {
      "cell_type": "code",
      "execution_count": null,
      "metadata": {
        "id": "U5Y_YWZkOkH7"
      },
      "outputs": [],
      "source": [
        "# !wget  https://bin.equinox.io/c/4VmDzA7iaHb/ngrok-stable-linux-amd64.zip"
      ]
    },
    {
      "cell_type": "code",
      "execution_count": null,
      "metadata": {
        "id": "LV-KA4VpO9qW"
      },
      "outputs": [],
      "source": [
        "\n",
        "# !unzip ngrok-stable-linux-amd64.zip"
      ]
    },
    {
      "cell_type": "code",
      "execution_count": null,
      "metadata": {
        "id": "hmztIxKEPDyi"
      },
      "outputs": [],
      "source": [
        "# get_ipython().system_raw('./ngrok http 8501 &')"
      ]
    },
    {
      "cell_type": "code",
      "execution_count": null,
      "metadata": {
        "id": "hEu65DiGPf3I"
      },
      "outputs": [],
      "source": [
        "# ! curl -s http://localhost:4040/api/tunnels | python3 -c \\\n",
        "#     \"import sys,json; print(json.load(sys.stdin)['tunnels'][0]['public_url'])\""
      ]
    },
    {
      "cell_type": "code",
      "execution_count": null,
      "metadata": {
        "id": "HJaHKXDHNc0k"
      },
      "outputs": [],
      "source": [
        "!pip install gradio >> /dev/null"
      ]
    },
    {
      "cell_type": "code",
      "execution_count": null,
      "metadata": {
        "id": "OggLAWZiOI9w",
        "colab": {
          "base_uri": "https://localhost:8080/",
          "height": 1000
        },
        "outputId": "82befe55-02ec-4035-c4aa-e04396d2ab68"
      },
      "outputs": [
        {
          "output_type": "stream",
          "name": "stderr",
          "text": [
            "/usr/local/lib/python3.10/dist-packages/gradio/inputs.py:259: UserWarning: Usage of gradio.inputs is deprecated, and will not be supported in the future, please import your component from gradio.components\n",
            "  warnings.warn(\n",
            "/usr/local/lib/python3.10/dist-packages/gradio/inputs.py:262: UserWarning: `optional` parameter is deprecated, and it has no effect\n",
            "  super().__init__(\n",
            "/usr/local/lib/python3.10/dist-packages/gradio/outputs.py:197: UserWarning: Usage of gradio.outputs is deprecated, and will not be supported in the future, please import your components from gradio.components\n",
            "  warnings.warn(\n",
            "/usr/local/lib/python3.10/dist-packages/gradio/outputs.py:200: UserWarning: The 'type' parameter has been deprecated. Use the Number component instead.\n",
            "  super().__init__(num_top_classes=num_top_classes, type=type, label=label)\n",
            "<ipython-input-41-2263b77840ce>:22: UserWarning: `capture_session` parameter is deprecated, and it has no effect\n",
            "  gr.Interface(fn=save_img, inputs=[image_ref,image_group], outputs=label, capture_session=True).launch(debug=\"True\")\n"
          ]
        },
        {
          "output_type": "stream",
          "name": "stdout",
          "text": [
            "Colab notebook detected. This cell will run indefinitely so that you can see errors and logs. To turn off, set debug=False in launch().\n",
            "Note: opening Chrome Inspector may crash demo inside Colab notebooks.\n",
            "\n",
            "To create a public link, set `share=True` in `launch()`.\n"
          ]
        },
        {
          "output_type": "display_data",
          "data": {
            "text/plain": [
              "<IPython.core.display.Javascript object>"
            ],
            "application/javascript": [
              "(async (port, path, width, height, cache, element) => {\n",
              "                        if (!google.colab.kernel.accessAllowed && !cache) {\n",
              "                            return;\n",
              "                        }\n",
              "                        element.appendChild(document.createTextNode(''));\n",
              "                        const url = await google.colab.kernel.proxyPort(port, {cache});\n",
              "\n",
              "                        const external_link = document.createElement('div');\n",
              "                        external_link.innerHTML = `\n",
              "                            <div style=\"font-family: monospace; margin-bottom: 0.5rem\">\n",
              "                                Running on <a href=${new URL(path, url).toString()} target=\"_blank\">\n",
              "                                    https://localhost:${port}${path}\n",
              "                                </a>\n",
              "                            </div>\n",
              "                        `;\n",
              "                        element.appendChild(external_link);\n",
              "\n",
              "                        const iframe = document.createElement('iframe');\n",
              "                        iframe.src = new URL(path, url).toString();\n",
              "                        iframe.height = height;\n",
              "                        iframe.allow = \"autoplay; camera; microphone; clipboard-read; clipboard-write;\"\n",
              "                        iframe.width = width;\n",
              "                        iframe.style.border = 0;\n",
              "                        element.appendChild(iframe);\n",
              "                    })(7860, \"/\", \"100%\", 500, false, window.element)"
            ]
          },
          "metadata": {}
        },
        {
          "output_type": "stream",
          "name": "stdout",
          "text": [
            "/content/temp_data/ref/ref.jpg\n",
            "[INFO] Found 1 Faces.\n",
            "file saved at /content/reference/face_of_the_person.jpg\n",
            "[INFO] Image faces_detected.jpg written to filesystem:  True\n",
            "Saving DIr : /content/reference/face_of_the_person.jpg\n",
            "1/1 [==============================] - 0s 19ms/step\n",
            "[INFO] Found 3 Faces.\n",
            "[INFO] Object found. Saving locally.\n",
            "[INFO] Object found. Saving locally.\n",
            "[INFO] Object found. Saving locally.\n",
            "[INFO] Image faces_detected.jpg written to filesystem:  True\n",
            "/content/faces/group.jpg/detected_faces2.jpg\n",
            "Saving DIr : /content/faces/group.jpg/detected_faces2.jpg\n",
            "1/1 [==============================] - 0s 23ms/step\n",
            "1/1 [==============================] - 0s 17ms/step\n",
            "/content/faces/group.jpg/detected_faces3.jpg\n",
            "Saving DIr : /content/faces/group.jpg/detected_faces3.jpg\n",
            "1/1 [==============================] - 0s 21ms/step\n",
            "1/1 [==============================] - 0s 18ms/step\n",
            "/content/faces/group.jpg/detected_faces1.jpg\n",
            "Saving DIr : /content/faces/group.jpg/detected_faces1.jpg\n",
            "1/1 [==============================] - 0s 20ms/step\n",
            "1/1 [==============================] - 0s 17ms/step\n",
            "[array([[0.9997167]], dtype=float32), array([[1.2486282e-12]], dtype=float32), array([[5.945856e-10]], dtype=float32)]\n",
            "Keyboard interruption in main thread... closing server.\n"
          ]
        },
        {
          "output_type": "execute_result",
          "data": {
            "text/plain": []
          },
          "metadata": {},
          "execution_count": 41
        }
      ],
      "source": [
        "from PIL import Image\n",
        "\n",
        "def save_img(image_ref, image_group):\n",
        "    # Save the reference image\n",
        "    reference_path = \"/content/temp_data/ref/ref.jpg\"\n",
        "    img_ref = Image.fromarray(image_ref)\n",
        "    img_ref.save(reference_path)\n",
        "\n",
        "    # Save the group image\n",
        "    group_path = \"/content/temp_data/group/group.jpg\"\n",
        "    img_g = Image.fromarray(image_group)\n",
        "    img_g.save(group_path)\n",
        "    res = maincode()\n",
        "    remove_files_in_directory(\"/content/faces/\")\n",
        "    return res\n",
        "\n",
        "import gradio as gr\n",
        "image_ref = gr.inputs.Image(source=\"webcam\", tool=\"opencv\")\n",
        "image_group = gr.inputs.Image()\n",
        "label=gr.outputs.Label(num_top_classes=3)\n",
        "\n",
        "gr.Interface(fn=save_img, inputs=[image_ref,image_group], outputs=label, capture_session=True).launch(debug=\"True\")\n",
        "# gr.Interface(fn=save_img, inputs=[], outputs=label0, capture_session=True).launch(debug=\"True\")\n"
      ]
    },
    {
      "cell_type": "code",
      "source": [
        "# import cv2\n",
        "# import gradio as gr\n",
        "# from PIL import Image\n",
        "\n",
        "# def save_img(image_ref, image_group):\n",
        "#     # Save the reference image\n",
        "#     reference_path = \"/content/temp_data/ref/ref.jpg\"\n",
        "#     img_ref = Image.fromarray(image_ref)\n",
        "#     img_ref.save(reference_path)\n",
        "\n",
        "#     # Save the group image\n",
        "#     group_path = \"/content/temp_data/group/group.jpg\"\n",
        "#     img_g = Image.fromarray(image_group)\n",
        "#     img_g.save(group_path)\n",
        "\n",
        "#     res = maincode()\n",
        "#     remove_files_in_directory(\"/content/faces/\")\n",
        "#     return res\n",
        "\n",
        "# def capture_frames():\n",
        "#     capture = cv2.VideoCapture(0)\n",
        "#     while True:\n",
        "#         ret, frame = capture.read()\n",
        "#         if not ret:\n",
        "#             continue\n",
        "\n",
        "#         image_ref = cv2.cvtColor(frame, cv2.COLOR_BGR2RGB)\n",
        "#         image_group = cv2.cvtColor(frame, cv2.COLOR_BGR2RGB)\n",
        "#         save_img(image_ref, image_group)\n",
        "\n",
        "#         if cv2.waitKey(1) & 0xFF == ord('q'):\n",
        "#             break\n",
        "\n",
        "#     capture.release()\n",
        "#     cv2.destroyAllWindows()\n",
        "\n",
        "# # Define the input and output interfaces for Gradio\n",
        "# image_ref = gr.inputs.Image(shape=(None, None, 3), source=\"webcam\", tool=\"opencv\")\n",
        "# image_group = gr.inputs.Image(shape=(None, None, 3), source=\"webcam\", tool=\"opencv\")\n",
        "# label = gr.outputs.Label(num_top_classes=3)\n",
        "\n",
        "# # Create the Gradio interface\n",
        "# gr.Interface(fn=save_img, inputs=[image_ref, image_group], outputs=label, capture_session=True).launch()\n",
        "\n",
        "# capture_frames()\n"
      ],
      "metadata": {
        "id": "wim4sNT5hOmt"
      },
      "execution_count": null,
      "outputs": []
    },
    {
      "cell_type": "code",
      "source": [
        "# import cv2\n",
        "# import gradio as gr\n",
        "# from PIL import Image\n",
        "\n",
        "# def save_img(image_ref, image_group=None):\n",
        "#     # Save the reference image\n",
        "#     reference_path = \"/content/temp_data/ref/ref.jpg\"\n",
        "#     img_ref = Image.fromarray(image_ref)\n",
        "#     img_ref.save(reference_path)\n",
        "\n",
        "#     res = maincode()\n",
        "#     remove_files_in_directory(\"/content/faces/\")\n",
        "#     return res\n",
        "\n",
        "# def capture_frames():\n",
        "#     capture = cv2.VideoCapture(0)\n",
        "#     ret, frame = capture.read()\n",
        "#     if not ret:\n",
        "#         print(\"Failed to capture frame from webcam\")\n",
        "#         return\n",
        "\n",
        "#     image_ref = cv2.cvtColor(frame, cv2.COLOR_BGR2RGB)\n",
        "#     save_img(image_ref)\n",
        "\n",
        "#     capture.release()\n",
        "\n",
        "# # Define the input and output interfaces for Gradio\n",
        "# image_ref = gr.inputs.Image(shape=(None, None, 3), source=\"webcam\", tool=\"opencv\")\n",
        "# image_group = gr.inputs.Image()\n",
        "# label = gr.outputs.Label(num_top_classes=3)\n",
        "\n",
        "# # Create the Gradio interface\n",
        "# gr.Interface(fn=save_img, inputs=[image_ref,image_group], outputs=label, capture_session=True).launch()\n",
        "\n",
        "# capture_frames()\n",
        "\n",
        "# image_group = gr.inputs.Image()\n",
        "# label=gr.outputs.Label(num_top_classes=3)\n",
        "\n",
        "# gr.Interface(fn=save_img, inputs=[image_ref,image_group], outputs=label, capture_session=True).launch(debug=\"True\")"
      ],
      "metadata": {
        "id": "XEzM27fSkGdt"
      },
      "execution_count": null,
      "outputs": []
    }
  ],
  "metadata": {
    "accelerator": "GPU",
    "colab": {
      "provenance": []
    },
    "kernelspec": {
      "display_name": "Python 3",
      "language": "python",
      "name": "python3"
    },
    "language_info": {
      "codemirror_mode": {
        "name": "ipython",
        "version": 3
      },
      "file_extension": ".py",
      "mimetype": "text/x-python",
      "name": "python",
      "nbconvert_exporter": "python",
      "pygments_lexer": "ipython3",
      "version": "3.8.8"
    }
  },
  "nbformat": 4,
  "nbformat_minor": 0
}